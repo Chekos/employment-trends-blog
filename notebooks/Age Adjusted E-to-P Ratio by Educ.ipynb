{
 "cells": [
  {
   "cell_type": "markdown",
   "metadata": {},
   "source": [
    "# Creating each level of education's GAP"
   ]
  },
  {
   "cell_type": "markdown",
   "metadata": {},
   "source": [
    "***\n",
    "In the notebook [bachelor_data_prep-Copy1](bachelor_data_prep-Copy1.ipynb) we created the data files:\n",
    "1. [bach_employed.csv](\"../data/processed/bach_employed.csv\"): Total number of people with a Bachelor's degree employed.\n",
    "2. [bach_pop.csv](\"../data/processed/bach_pop.csv\"): Total number of people with a Bachelor's degree.\n",
    "3. [bach_rate.csv](\"../data/processed/bach_rate.csv\"): Employment to population rate.\n",
    "<br> _All restricted to people ages 16-65._"
   ]
  },
  {
   "cell_type": "markdown",
   "metadata": {},
   "source": [
    "In this notebook we will recreate those for each level of education using the prepared dataset: [age_adj.csv](\"../data/processed/age_adj.csv\")"
   ]
  },
  {
   "cell_type": "markdown",
   "metadata": {},
   "source": [
    "There are 3 scripts:\n",
    "1. [data_cleaner.py](data_cleaner.py)\n",
    "2. [emp_pop_gap.py](emp_pop_gap.py)\n",
    "3. [cleanup.py](cleanup.py)\n",
    "\n",
    "__data_cleaner.py___ takes 1 argument (either \"age_adj.csv\" or \"age_adj_CA.csv\") reads in the file passed and creates `rate`, `population`, and `weight` (employed) `.csv` files for each education level (6). <br>\n",
    "__emp_pop_gap.py__ takes 1 argument (either \"US\" or \"CA\") reads those `.csv` files and calculates the ___age adjusted___ employment to population ratio gaps and creates `gaps_alleduc_USA.csv` or `gaps_alleduc_CA.csv`. <br>\n",
    "__cleanup.py__ deletes the 3 `.csv` files created for each of the 6 education levels."
   ]
  },
  {
   "cell_type": "code",
   "execution_count": 1,
   "metadata": {},
   "outputs": [],
   "source": [
    "import os"
   ]
  },
  {
   "cell_type": "code",
   "execution_count": 2,
   "metadata": {},
   "outputs": [
    {
     "name": "stdout",
     "output_type": "stream",
     "text": [
      "starting with 5 files.\n",
      "running data_cleaner.py age_adj.csv there are: 23 files.\n",
      "running emp_pop_gap.py US there are: 24 files.\n",
      "running cleanup.py there are: 6 files.\n"
     ]
    }
   ],
   "source": [
    "# USA\n",
    "print(f\"starting with {len(os.listdir('../data/processed/'))} files.\")\n",
    "%run data_cleaner.py age_adj.csv\n",
    "print(f\"running data_cleaner.py age_adj.csv there are: {len(os.listdir('../data/processed/'))} files.\")\n",
    "%run emp_pop_gap.py US\n",
    "print(f\"running emp_pop_gap.py US there are: {len(os.listdir('../data/processed/'))} files.\")      \n",
    "%run cleanup.py\n",
    "print(f\"running cleanup.py there are: {len(os.listdir('../data/processed/'))} files.\")      "
   ]
  },
  {
   "cell_type": "code",
   "execution_count": 3,
   "metadata": {},
   "outputs": [
    {
     "name": "stdout",
     "output_type": "stream",
     "text": [
      "starting with 6 files.\n",
      "running data_cleaner.py age_adj_CA.csv there are: 24 files.\n",
      "running emp_pop_gap.py CA there are: 25 files.\n",
      "running cleanup.py there are: 7 files.\n"
     ]
    }
   ],
   "source": [
    "# CA\n",
    "print(f\"starting with {len(os.listdir('../data/processed/'))} files.\")\n",
    "%run data_cleaner.py age_adj_CA.csv\n",
    "print(f\"running data_cleaner.py age_adj_CA.csv there are: {len(os.listdir('../data/processed/'))} files.\")\n",
    "%run emp_pop_gap.py CA\n",
    "print(f\"running emp_pop_gap.py CA there are: {len(os.listdir('../data/processed/'))} files.\")\n",
    "%run cleanup.py\n",
    "print(f\"running cleanup.py there are: {len(os.listdir('../data/processed/'))} files.\")"
   ]
  },
  {
   "cell_type": "code",
   "execution_count": 4,
   "metadata": {},
   "outputs": [],
   "source": [
    "import pandas as pd"
   ]
  },
  {
   "cell_type": "code",
   "execution_count": 5,
   "metadata": {},
   "outputs": [
    {
     "data": {
      "text/html": [
       "<div>\n",
       "<style scoped>\n",
       "    .dataframe tbody tr th:only-of-type {\n",
       "        vertical-align: middle;\n",
       "    }\n",
       "\n",
       "    .dataframe tbody tr th {\n",
       "        vertical-align: top;\n",
       "    }\n",
       "\n",
       "    .dataframe thead th {\n",
       "        text-align: right;\n",
       "    }\n",
       "</style>\n",
       "<table border=\"1\" class=\"dataframe\">\n",
       "  <thead>\n",
       "    <tr style=\"text-align: right;\">\n",
       "      <th></th>\n",
       "      <th>year</th>\n",
       "      <th>educ_level</th>\n",
       "      <th>gap</th>\n",
       "    </tr>\n",
       "  </thead>\n",
       "  <tbody>\n",
       "    <tr>\n",
       "      <th>0</th>\n",
       "      <td>2007</td>\n",
       "      <td>Less Than Hs</td>\n",
       "      <td>0.0000</td>\n",
       "    </tr>\n",
       "    <tr>\n",
       "      <th>1</th>\n",
       "      <td>2008</td>\n",
       "      <td>Less Than Hs</td>\n",
       "      <td>-0.0281</td>\n",
       "    </tr>\n",
       "    <tr>\n",
       "      <th>2</th>\n",
       "      <td>2009</td>\n",
       "      <td>Less Than Hs</td>\n",
       "      <td>-0.0640</td>\n",
       "    </tr>\n",
       "    <tr>\n",
       "      <th>3</th>\n",
       "      <td>2010</td>\n",
       "      <td>Less Than Hs</td>\n",
       "      <td>-0.0753</td>\n",
       "    </tr>\n",
       "    <tr>\n",
       "      <th>4</th>\n",
       "      <td>2011</td>\n",
       "      <td>Less Than Hs</td>\n",
       "      <td>-0.0774</td>\n",
       "    </tr>\n",
       "  </tbody>\n",
       "</table>\n",
       "</div>"
      ],
      "text/plain": [
       "   year    educ_level     gap\n",
       "0  2007  Less Than Hs  0.0000\n",
       "1  2008  Less Than Hs -0.0281\n",
       "2  2009  Less Than Hs -0.0640\n",
       "3  2010  Less Than Hs -0.0753\n",
       "4  2011  Less Than Hs -0.0774"
      ]
     },
     "execution_count": 5,
     "metadata": {},
     "output_type": "execute_result"
    }
   ],
   "source": [
    "USA = pd.read_csv(\"../data/processed/gaps_alleduc_USA.csv\")\n",
    "\n",
    "USA.head()"
   ]
  },
  {
   "cell_type": "code",
   "execution_count": 6,
   "metadata": {},
   "outputs": [
    {
     "data": {
      "text/html": [
       "<div>\n",
       "<style scoped>\n",
       "    .dataframe tbody tr th:only-of-type {\n",
       "        vertical-align: middle;\n",
       "    }\n",
       "\n",
       "    .dataframe tbody tr th {\n",
       "        vertical-align: top;\n",
       "    }\n",
       "\n",
       "    .dataframe thead th {\n",
       "        text-align: right;\n",
       "    }\n",
       "</style>\n",
       "<table border=\"1\" class=\"dataframe\">\n",
       "  <thead>\n",
       "    <tr style=\"text-align: right;\">\n",
       "      <th></th>\n",
       "      <th>year</th>\n",
       "      <th>educ_level</th>\n",
       "      <th>gap</th>\n",
       "    </tr>\n",
       "  </thead>\n",
       "  <tbody>\n",
       "    <tr>\n",
       "      <th>0</th>\n",
       "      <td>2007</td>\n",
       "      <td>Less Than Hs</td>\n",
       "      <td>0.0000</td>\n",
       "    </tr>\n",
       "    <tr>\n",
       "      <th>1</th>\n",
       "      <td>2008</td>\n",
       "      <td>Less Than Hs</td>\n",
       "      <td>-0.0250</td>\n",
       "    </tr>\n",
       "    <tr>\n",
       "      <th>2</th>\n",
       "      <td>2009</td>\n",
       "      <td>Less Than Hs</td>\n",
       "      <td>-0.0627</td>\n",
       "    </tr>\n",
       "    <tr>\n",
       "      <th>3</th>\n",
       "      <td>2010</td>\n",
       "      <td>Less Than Hs</td>\n",
       "      <td>-0.0614</td>\n",
       "    </tr>\n",
       "    <tr>\n",
       "      <th>4</th>\n",
       "      <td>2011</td>\n",
       "      <td>Less Than Hs</td>\n",
       "      <td>-0.0635</td>\n",
       "    </tr>\n",
       "  </tbody>\n",
       "</table>\n",
       "</div>"
      ],
      "text/plain": [
       "   year    educ_level     gap\n",
       "0  2007  Less Than Hs  0.0000\n",
       "1  2008  Less Than Hs -0.0250\n",
       "2  2009  Less Than Hs -0.0627\n",
       "3  2010  Less Than Hs -0.0614\n",
       "4  2011  Less Than Hs -0.0635"
      ]
     },
     "execution_count": 6,
     "metadata": {},
     "output_type": "execute_result"
    }
   ],
   "source": [
    "CA = pd.read_csv(\"../data/processed/gaps_alleduc_CA.csv\")\n",
    "\n",
    "CA.head()"
   ]
  },
  {
   "cell_type": "markdown",
   "metadata": {},
   "source": [
    "***\n",
    "#### Visualizing the gaps"
   ]
  },
  {
   "cell_type": "code",
   "execution_count": 7,
   "metadata": {},
   "outputs": [],
   "source": [
    "import altair as alt"
   ]
  },
  {
   "cell_type": "code",
   "execution_count": 8,
   "metadata": {},
   "outputs": [],
   "source": [
    "%run theme.py"
   ]
  },
  {
   "cell_type": "code",
   "execution_count": 9,
   "metadata": {},
   "outputs": [
    {
     "data": {
      "text/html": [
       "<style>\n",
       "@import url('https://fonts.googleapis.com/css?family=Ubuntu|Ubuntu+Condensed|Ubuntu+Mono');\n",
       "</style>"
      ],
      "text/plain": [
       "<IPython.core.display.HTML object>"
      ]
     },
     "metadata": {},
     "output_type": "display_data"
    }
   ],
   "source": [
    "%%html\n",
    "<style>\n",
    "@import url('https://fonts.googleapis.com/css?family=Ubuntu|Ubuntu+Condensed|Ubuntu+Mono');\n",
    "</style>"
   ]
  },
  {
   "cell_type": "code",
   "execution_count": 10,
   "metadata": {},
   "outputs": [],
   "source": [
    "educ_levels = ['Less Than Hs', 'High School', 'Some College', 'Associate', \"Bachelors\", 'Advanced Degree']"
   ]
  },
  {
   "cell_type": "code",
   "execution_count": 11,
   "metadata": {},
   "outputs": [],
   "source": [
    "# Zero line\n",
    "zero = USA.copy()\n",
    "zero['zero'] = 0\n",
    "line = alt.Chart(zero).mark_rule(color = \"black\").encode(\n",
    "    y = alt.Y('zero:Q', axis = alt.Axis(title = \"\")),\n",
    "    size = alt.value(0.1)\n",
    ")\n"
   ]
  },
  {
   "cell_type": "code",
   "execution_count": 12,
   "metadata": {},
   "outputs": [
    {
     "data": {
      "application/vnd.vegalite.v2+json": {
       "$schema": "https://vega.github.io/schema/vega-lite/v2.6.0.json",
       "autosize": "fit",
       "config": {
        "arc": {
         "fill": "#282828"
        },
        "area": {
         "fill": "#282828"
        },
        "axisBand": {
         "grid": false
        },
        "axisBottom": {
         "domain": false,
         "domainColor": "black",
         "domainWidth": 3,
         "grid": true,
         "gridColor": "#C9C9C9",
         "gridWidth": 1,
         "labelAngle": 0,
         "labelFont": "Ubuntu Condensed",
         "labelFontSize": 20,
         "labelPadding": 8,
         "tickColor": "#282828",
         "tickSize": 10,
         "title": "",
         "titleFont": "Ubuntu",
         "titleFontSize": 16,
         "titlePadding": 10
        },
        "axisLeft": {
         "domainColor": "#282828",
         "domainWidth": 1,
         "gridColor": "#C9C9C9",
         "gridWidth": 1,
         "labelFont": "Ubuntu Condensed",
         "labelFontSize": 20,
         "labelPadding": 8,
         "tickColor": "#282828",
         "tickSize": 10,
         "ticks": true,
         "titleFont": "Ubuntu",
         "titleFontSize": 22,
         "titlePadding": 10
        },
        "axisRight": {
         "domainColor": "#282828",
         "domainWidth": 1,
         "gridColor": "#C9C9C9",
         "gridWidth": 1,
         "labelFont": "Ubuntu Condensed",
         "labelFontSize": 12,
         "labelPadding": 4,
         "tickColor": "#282828",
         "tickSize": 10,
         "ticks": true,
         "titleFont": "Ubuntu",
         "titleFontSize": 14,
         "titlePadding": 10
        },
        "axisTop": {
         "domain": false,
         "domainColor": "black",
         "domainWidth": 3,
         "grid": true,
         "gridColor": "#C9C9C9",
         "gridWidth": 1,
         "labelFont": "Ubuntu Condensed",
         "labelFontSize": 12,
         "labelPadding": 4,
         "tickColor": "#282828",
         "tickSize": 10,
         "titleFont": "Ubuntu",
         "titleFontSize": 14,
         "titlePadding": 10
        },
        "background": "#FFFAFA",
        "geoshape": {
         "fill": "#C0C0C0"
        },
        "group": {
         "fill": "#FFFAFA"
        },
        "header": {
         "fontWeight": 400,
         "labelFont": "Ubuntu Condensed",
         "labelFontSize": 28,
         "title": " ",
         "titleBaseline": "bottom",
         "titleFont": "Ubuntu",
         "titleFontSize": 28,
         "titleOffset": -30
        },
        "legend": {
         "labelFont": "Ubuntu Condensed",
         "labelFontSize": 16,
         "labelLimit": 500,
         "padding": 10,
         "symbolSize": 100,
         "symbolType": "square",
         "titleFont": "Ubuntu",
         "titleFontSize": 18,
         "titlePadding": 10
        },
        "line": {
         "color": "#282828",
         "stroke": "#282828",
         "strokewidth": 5
        },
        "padding": 10,
        "path": {
         "stroke": "#282828",
         "strokeWidth": 0.5
        },
        "point": {
         "filled": true
        },
        "range": {
         "category": [
          "#dc0d7a",
          "#02a3cd",
          "#e4a100",
          "#dc0d12",
          "#0DDC6F",
          "#074a7e",
          "#e46800",
          "#aa3594",
          "#a20c4b"
         ],
         "diverging": [
          "#dc0d12",
          "#e9686b",
          "#fbe1e1",
          "#dff4f9",
          "#81d1e6",
          "#03a3cd"
         ],
         "heatmap": [
          "#fcdfef",
          "#f8bfde",
          "#f59fce",
          "#f180be",
          "#ee60ad",
          "#eb409d",
          "#e7208c",
          "#e4007c"
         ]
        },
        "rect": {
         "fill": "#A20C4B",
         "opacity": 0.3
        },
        "style": {
         "bar": {
          "binSpacing": 2,
          "fill": "#282828",
          "stroke": false
         },
         "text": {
          "align": "right",
          "dx": 300,
          "font": "Ubuntu Mono",
          "fontSize": 10,
          "fontWeight": 100,
          "href": "https://twitter.com/ChekosWH",
          "size": 10,
          "text": "Made by @ChekosWH"
         }
        },
        "symbol": {
         "opacity": 1,
         "shape": "circle",
         "size": 40,
         "strokeWidth": 1
        },
        "title": {
         "anchor": "start",
         "font": "Ubuntu",
         "fontSize": 24,
         "fontWeight": 600,
         "offset": 20
        },
        "trail": {
         "color": "#282828",
         "size": 5,
         "stroke": "#282828",
         "strokeWidth": 0
        },
        "view": {
         "padding": 15,
         "stroke": false
        }
       },
       "datasets": {
        "data-666ac5f635ff941ddd4679687407a2a3": [
         {
          "educ_level": "Less Than Hs",
          "gap": 0,
          "year": 2007,
          "zero": 0
         },
         {
          "educ_level": "Less Than Hs",
          "gap": -0.0281,
          "year": 2008,
          "zero": 0
         },
         {
          "educ_level": "Less Than Hs",
          "gap": -0.064,
          "year": 2009,
          "zero": 0
         },
         {
          "educ_level": "Less Than Hs",
          "gap": -0.0753,
          "year": 2010,
          "zero": 0
         },
         {
          "educ_level": "Less Than Hs",
          "gap": -0.0774,
          "year": 2011,
          "zero": 0
         },
         {
          "educ_level": "Less Than Hs",
          "gap": -0.0754,
          "year": 2012,
          "zero": 0
         },
         {
          "educ_level": "Less Than Hs",
          "gap": -0.0757,
          "year": 2013,
          "zero": 0
         },
         {
          "educ_level": "Less Than Hs",
          "gap": -0.0659,
          "year": 2014,
          "zero": 0
         },
         {
          "educ_level": "Less Than Hs",
          "gap": -0.0577,
          "year": 2015,
          "zero": 0
         },
         {
          "educ_level": "Less Than Hs",
          "gap": -0.0529,
          "year": 2016,
          "zero": 0
         },
         {
          "educ_level": "Less Than Hs",
          "gap": -0.0471,
          "year": 2017,
          "zero": 0
         },
         {
          "educ_level": "Less Than Hs",
          "gap": -0.0424,
          "year": 2018,
          "zero": 0
         },
         {
          "educ_level": "High School",
          "gap": 0,
          "year": 2007,
          "zero": 0
         },
         {
          "educ_level": "High School",
          "gap": -0.0109,
          "year": 2008,
          "zero": 0
         },
         {
          "educ_level": "High School",
          "gap": -0.0493,
          "year": 2009,
          "zero": 0
         },
         {
          "educ_level": "High School",
          "gap": -0.0553,
          "year": 2010,
          "zero": 0
         },
         {
          "educ_level": "High School",
          "gap": -0.0571,
          "year": 2011,
          "zero": 0
         },
         {
          "educ_level": "High School",
          "gap": -0.0519,
          "year": 2012,
          "zero": 0
         },
         {
          "educ_level": "High School",
          "gap": -0.0495,
          "year": 2013,
          "zero": 0
         },
         {
          "educ_level": "High School",
          "gap": -0.0393,
          "year": 2014,
          "zero": 0
         },
         {
          "educ_level": "High School",
          "gap": -0.0389,
          "year": 2015,
          "zero": 0
         },
         {
          "educ_level": "High School",
          "gap": -0.0317,
          "year": 2016,
          "zero": 0
         },
         {
          "educ_level": "High School",
          "gap": -0.0231,
          "year": 2017,
          "zero": 0
         },
         {
          "educ_level": "High School",
          "gap": -0.0167,
          "year": 2018,
          "zero": 0
         },
         {
          "educ_level": "Some College",
          "gap": 0,
          "year": 2007,
          "zero": 0
         },
         {
          "educ_level": "Some College",
          "gap": -0.0114,
          "year": 2008,
          "zero": 0
         },
         {
          "educ_level": "Some College",
          "gap": -0.0495,
          "year": 2009,
          "zero": 0
         },
         {
          "educ_level": "Some College",
          "gap": -0.0608,
          "year": 2010,
          "zero": 0
         },
         {
          "educ_level": "Some College",
          "gap": -0.062,
          "year": 2011,
          "zero": 0
         },
         {
          "educ_level": "Some College",
          "gap": -0.0566,
          "year": 2012,
          "zero": 0
         },
         {
          "educ_level": "Some College",
          "gap": -0.057999999999999996,
          "year": 2013,
          "zero": 0
         },
         {
          "educ_level": "Some College",
          "gap": -0.0526,
          "year": 2014,
          "zero": 0
         },
         {
          "educ_level": "Some College",
          "gap": -0.0438,
          "year": 2015,
          "zero": 0
         },
         {
          "educ_level": "Some College",
          "gap": -0.0355,
          "year": 2016,
          "zero": 0
         },
         {
          "educ_level": "Some College",
          "gap": -0.031,
          "year": 2017,
          "zero": 0
         },
         {
          "educ_level": "Some College",
          "gap": -0.0294,
          "year": 2018,
          "zero": 0
         },
         {
          "educ_level": "Associate",
          "gap": 0,
          "year": 2007,
          "zero": 0
         },
         {
          "educ_level": "Associate",
          "gap": -0.0068,
          "year": 2008,
          "zero": 0
         },
         {
          "educ_level": "Associate",
          "gap": -0.0357,
          "year": 2009,
          "zero": 0
         },
         {
          "educ_level": "Associate",
          "gap": -0.0431,
          "year": 2010,
          "zero": 0
         },
         {
          "educ_level": "Associate",
          "gap": -0.044000000000000004,
          "year": 2011,
          "zero": 0
         },
         {
          "educ_level": "Associate",
          "gap": -0.0388,
          "year": 2012,
          "zero": 0
         },
         {
          "educ_level": "Associate",
          "gap": -0.0377,
          "year": 2013,
          "zero": 0
         },
         {
          "educ_level": "Associate",
          "gap": -0.0386,
          "year": 2014,
          "zero": 0
         },
         {
          "educ_level": "Associate",
          "gap": -0.0296,
          "year": 2015,
          "zero": 0
         },
         {
          "educ_level": "Associate",
          "gap": -0.0273,
          "year": 2016,
          "zero": 0
         },
         {
          "educ_level": "Associate",
          "gap": -0.0263,
          "year": 2017,
          "zero": 0
         },
         {
          "educ_level": "Associate",
          "gap": -0.0156,
          "year": 2018,
          "zero": 0
         },
         {
          "educ_level": "Bachelors",
          "gap": 0,
          "year": 2007,
          "zero": 0
         },
         {
          "educ_level": "Bachelors",
          "gap": -0.0006,
          "year": 2008,
          "zero": 0
         },
         {
          "educ_level": "Bachelors",
          "gap": -0.0217,
          "year": 2009,
          "zero": 0
         },
         {
          "educ_level": "Bachelors",
          "gap": -0.0284,
          "year": 2010,
          "zero": 0
         },
         {
          "educ_level": "Bachelors",
          "gap": -0.0273,
          "year": 2011,
          "zero": 0
         },
         {
          "educ_level": "Bachelors",
          "gap": -0.0218,
          "year": 2012,
          "zero": 0
         },
         {
          "educ_level": "Bachelors",
          "gap": -0.0203,
          "year": 2013,
          "zero": 0
         },
         {
          "educ_level": "Bachelors",
          "gap": -0.0158,
          "year": 2014,
          "zero": 0
         },
         {
          "educ_level": "Bachelors",
          "gap": -0.0119,
          "year": 2015,
          "zero": 0
         },
         {
          "educ_level": "Bachelors",
          "gap": -0.0103,
          "year": 2016,
          "zero": 0
         },
         {
          "educ_level": "Bachelors",
          "gap": -0.0071,
          "year": 2017,
          "zero": 0
         },
         {
          "educ_level": "Bachelors",
          "gap": -0.0024,
          "year": 2018,
          "zero": 0
         },
         {
          "educ_level": "Advanced Degree",
          "gap": 0,
          "year": 2007,
          "zero": 0
         },
         {
          "educ_level": "Advanced Degree",
          "gap": -0.0005,
          "year": 2008,
          "zero": 0
         },
         {
          "educ_level": "Advanced Degree",
          "gap": -0.0147,
          "year": 2009,
          "zero": 0
         },
         {
          "educ_level": "Advanced Degree",
          "gap": -0.0174,
          "year": 2010,
          "zero": 0
         },
         {
          "educ_level": "Advanced Degree",
          "gap": -0.0133,
          "year": 2011,
          "zero": 0
         },
         {
          "educ_level": "Advanced Degree",
          "gap": -0.0163,
          "year": 2012,
          "zero": 0
         },
         {
          "educ_level": "Advanced Degree",
          "gap": -0.0167,
          "year": 2013,
          "zero": 0
         },
         {
          "educ_level": "Advanced Degree",
          "gap": -0.0173,
          "year": 2014,
          "zero": 0
         },
         {
          "educ_level": "Advanced Degree",
          "gap": -0.0117,
          "year": 2015,
          "zero": 0
         },
         {
          "educ_level": "Advanced Degree",
          "gap": -0.006999999999999999,
          "year": 2016,
          "zero": 0
         },
         {
          "educ_level": "Advanced Degree",
          "gap": -0.0033,
          "year": 2017,
          "zero": 0
         },
         {
          "educ_level": "Advanced Degree",
          "gap": -0.0053,
          "year": 2018,
          "zero": 0
         }
        ],
        "data-a30037ba1f76948bfbf69ff03e11b484": [
         {
          "educ_level": "Less Than Hs",
          "gap": 0,
          "year": 2007
         },
         {
          "educ_level": "Less Than Hs",
          "gap": -0.0281,
          "year": 2008
         },
         {
          "educ_level": "Less Than Hs",
          "gap": -0.064,
          "year": 2009
         },
         {
          "educ_level": "Less Than Hs",
          "gap": -0.0753,
          "year": 2010
         },
         {
          "educ_level": "Less Than Hs",
          "gap": -0.0774,
          "year": 2011
         },
         {
          "educ_level": "Less Than Hs",
          "gap": -0.0754,
          "year": 2012
         },
         {
          "educ_level": "Less Than Hs",
          "gap": -0.0757,
          "year": 2013
         },
         {
          "educ_level": "Less Than Hs",
          "gap": -0.0659,
          "year": 2014
         },
         {
          "educ_level": "Less Than Hs",
          "gap": -0.0577,
          "year": 2015
         },
         {
          "educ_level": "Less Than Hs",
          "gap": -0.0529,
          "year": 2016
         },
         {
          "educ_level": "Less Than Hs",
          "gap": -0.0471,
          "year": 2017
         },
         {
          "educ_level": "Less Than Hs",
          "gap": -0.0424,
          "year": 2018
         },
         {
          "educ_level": "High School",
          "gap": 0,
          "year": 2007
         },
         {
          "educ_level": "High School",
          "gap": -0.0109,
          "year": 2008
         },
         {
          "educ_level": "High School",
          "gap": -0.0493,
          "year": 2009
         },
         {
          "educ_level": "High School",
          "gap": -0.0553,
          "year": 2010
         },
         {
          "educ_level": "High School",
          "gap": -0.0571,
          "year": 2011
         },
         {
          "educ_level": "High School",
          "gap": -0.0519,
          "year": 2012
         },
         {
          "educ_level": "High School",
          "gap": -0.0495,
          "year": 2013
         },
         {
          "educ_level": "High School",
          "gap": -0.0393,
          "year": 2014
         },
         {
          "educ_level": "High School",
          "gap": -0.0389,
          "year": 2015
         },
         {
          "educ_level": "High School",
          "gap": -0.0317,
          "year": 2016
         },
         {
          "educ_level": "High School",
          "gap": -0.0231,
          "year": 2017
         },
         {
          "educ_level": "High School",
          "gap": -0.0167,
          "year": 2018
         },
         {
          "educ_level": "Some College",
          "gap": 0,
          "year": 2007
         },
         {
          "educ_level": "Some College",
          "gap": -0.0114,
          "year": 2008
         },
         {
          "educ_level": "Some College",
          "gap": -0.0495,
          "year": 2009
         },
         {
          "educ_level": "Some College",
          "gap": -0.0608,
          "year": 2010
         },
         {
          "educ_level": "Some College",
          "gap": -0.062,
          "year": 2011
         },
         {
          "educ_level": "Some College",
          "gap": -0.0566,
          "year": 2012
         },
         {
          "educ_level": "Some College",
          "gap": -0.057999999999999996,
          "year": 2013
         },
         {
          "educ_level": "Some College",
          "gap": -0.0526,
          "year": 2014
         },
         {
          "educ_level": "Some College",
          "gap": -0.0438,
          "year": 2015
         },
         {
          "educ_level": "Some College",
          "gap": -0.0355,
          "year": 2016
         },
         {
          "educ_level": "Some College",
          "gap": -0.031,
          "year": 2017
         },
         {
          "educ_level": "Some College",
          "gap": -0.0294,
          "year": 2018
         },
         {
          "educ_level": "Associate",
          "gap": 0,
          "year": 2007
         },
         {
          "educ_level": "Associate",
          "gap": -0.0068,
          "year": 2008
         },
         {
          "educ_level": "Associate",
          "gap": -0.0357,
          "year": 2009
         },
         {
          "educ_level": "Associate",
          "gap": -0.0431,
          "year": 2010
         },
         {
          "educ_level": "Associate",
          "gap": -0.044000000000000004,
          "year": 2011
         },
         {
          "educ_level": "Associate",
          "gap": -0.0388,
          "year": 2012
         },
         {
          "educ_level": "Associate",
          "gap": -0.0377,
          "year": 2013
         },
         {
          "educ_level": "Associate",
          "gap": -0.0386,
          "year": 2014
         },
         {
          "educ_level": "Associate",
          "gap": -0.0296,
          "year": 2015
         },
         {
          "educ_level": "Associate",
          "gap": -0.0273,
          "year": 2016
         },
         {
          "educ_level": "Associate",
          "gap": -0.0263,
          "year": 2017
         },
         {
          "educ_level": "Associate",
          "gap": -0.0156,
          "year": 2018
         },
         {
          "educ_level": "Bachelors",
          "gap": 0,
          "year": 2007
         },
         {
          "educ_level": "Bachelors",
          "gap": -0.0006,
          "year": 2008
         },
         {
          "educ_level": "Bachelors",
          "gap": -0.0217,
          "year": 2009
         },
         {
          "educ_level": "Bachelors",
          "gap": -0.0284,
          "year": 2010
         },
         {
          "educ_level": "Bachelors",
          "gap": -0.0273,
          "year": 2011
         },
         {
          "educ_level": "Bachelors",
          "gap": -0.0218,
          "year": 2012
         },
         {
          "educ_level": "Bachelors",
          "gap": -0.0203,
          "year": 2013
         },
         {
          "educ_level": "Bachelors",
          "gap": -0.0158,
          "year": 2014
         },
         {
          "educ_level": "Bachelors",
          "gap": -0.0119,
          "year": 2015
         },
         {
          "educ_level": "Bachelors",
          "gap": -0.0103,
          "year": 2016
         },
         {
          "educ_level": "Bachelors",
          "gap": -0.0071,
          "year": 2017
         },
         {
          "educ_level": "Bachelors",
          "gap": -0.0024,
          "year": 2018
         },
         {
          "educ_level": "Advanced Degree",
          "gap": 0,
          "year": 2007
         },
         {
          "educ_level": "Advanced Degree",
          "gap": -0.0005,
          "year": 2008
         },
         {
          "educ_level": "Advanced Degree",
          "gap": -0.0147,
          "year": 2009
         },
         {
          "educ_level": "Advanced Degree",
          "gap": -0.0174,
          "year": 2010
         },
         {
          "educ_level": "Advanced Degree",
          "gap": -0.0133,
          "year": 2011
         },
         {
          "educ_level": "Advanced Degree",
          "gap": -0.0163,
          "year": 2012
         },
         {
          "educ_level": "Advanced Degree",
          "gap": -0.0167,
          "year": 2013
         },
         {
          "educ_level": "Advanced Degree",
          "gap": -0.0173,
          "year": 2014
         },
         {
          "educ_level": "Advanced Degree",
          "gap": -0.0117,
          "year": 2015
         },
         {
          "educ_level": "Advanced Degree",
          "gap": -0.006999999999999999,
          "year": 2016
         },
         {
          "educ_level": "Advanced Degree",
          "gap": -0.0033,
          "year": 2017
         },
         {
          "educ_level": "Advanced Degree",
          "gap": -0.0053,
          "year": 2018
         }
        ]
       },
       "height": 800,
       "layer": [
        {
         "data": {
          "name": "data-a30037ba1f76948bfbf69ff03e11b484"
         },
         "encoding": {
          "color": {
           "field": "educ_level",
           "legend": {
            "title": "education",
            "values": [
             "Less Than Hs",
             "High School",
             "Some College",
             "Associate",
             "Bachelors",
             "Advanced Degree"
            ]
           },
           "type": "nominal"
          },
          "x": {
           "field": "year",
           "type": "ordinal"
          },
          "y": {
           "axis": {
            "format": "%"
           },
           "field": "gap",
           "scale": {
            "domain": [
             -0.1,
             0.02
            ]
           },
           "type": "quantitative"
          }
         },
         "height": 400,
         "mark": "line",
         "title": "Age Adjusted Employment-to-Population Ratio by Educational Attainment (US)",
         "width": 850
        },
        {
         "data": {
          "name": "data-666ac5f635ff941ddd4679687407a2a3"
         },
         "encoding": {
          "size": {
           "value": 0.1
          },
          "y": {
           "axis": {
            "title": ""
           },
           "field": "zero",
           "type": "quantitative"
          }
         },
         "mark": {
          "color": "black",
          "type": "rule"
         }
        }
       ],
       "width": 1080
      },
      "image/png": "[encoded data removed]",
      "text/plain": [
       "<VegaLite 2 object>\n",
       "\n",
       "If you see this message, it means the renderer has not been properly enabled\n",
       "for the frontend that you are using. For more information, see\n",
       "https://altair-viz.github.io/user_guide/troubleshooting.html\n"
      ]
     },
     "execution_count": 12,
     "metadata": {},
     "output_type": "execute_result"
    }
   ],
   "source": [
    "chart_US = alt.Chart(USA).mark_line().encode(\n",
    "            x = alt.X('year:O'),\n",
    "            y = alt.Y(\"gap:Q\", axis = alt.Axis(format = \"%\"), scale = alt.Scale(domain = [-0.10, 0.02])),\n",
    "            color = alt.Color(\"educ_level:N\", legend = alt.Legend(values = educ_levels, title = \"education\" ))\n",
    ").properties(\n",
    "    width = 850,\n",
    "    height = 400,\n",
    "    title = \"Age Adjusted Employment-to-Population Ratio by Educational Attainment (US)\",\n",
    ")\n",
    "\n",
    "final_USA = chart_US + line\n",
    "\n",
    "final_USA"
   ]
  },
  {
   "cell_type": "code",
   "execution_count": 13,
   "metadata": {},
   "outputs": [
    {
     "data": {
      "application/vnd.vegalite.v2+json": {
       "$schema": "https://vega.github.io/schema/vega-lite/v2.6.0.json",
       "autosize": "fit",
       "config": {
        "arc": {
         "fill": "#282828"
        },
        "area": {
         "fill": "#282828"
        },
        "axisBand": {
         "grid": false
        },
        "axisBottom": {
         "domain": false,
         "domainColor": "black",
         "domainWidth": 3,
         "grid": true,
         "gridColor": "#C9C9C9",
         "gridWidth": 1,
         "labelAngle": 0,
         "labelFont": "Ubuntu Condensed",
         "labelFontSize": 20,
         "labelPadding": 8,
         "tickColor": "#282828",
         "tickSize": 10,
         "title": "",
         "titleFont": "Ubuntu",
         "titleFontSize": 16,
         "titlePadding": 10
        },
        "axisLeft": {
         "domainColor": "#282828",
         "domainWidth": 1,
         "gridColor": "#C9C9C9",
         "gridWidth": 1,
         "labelFont": "Ubuntu Condensed",
         "labelFontSize": 20,
         "labelPadding": 8,
         "tickColor": "#282828",
         "tickSize": 10,
         "ticks": true,
         "titleFont": "Ubuntu",
         "titleFontSize": 22,
         "titlePadding": 10
        },
        "axisRight": {
         "domainColor": "#282828",
         "domainWidth": 1,
         "gridColor": "#C9C9C9",
         "gridWidth": 1,
         "labelFont": "Ubuntu Condensed",
         "labelFontSize": 12,
         "labelPadding": 4,
         "tickColor": "#282828",
         "tickSize": 10,
         "ticks": true,
         "titleFont": "Ubuntu",
         "titleFontSize": 14,
         "titlePadding": 10
        },
        "axisTop": {
         "domain": false,
         "domainColor": "black",
         "domainWidth": 3,
         "grid": true,
         "gridColor": "#C9C9C9",
         "gridWidth": 1,
         "labelFont": "Ubuntu Condensed",
         "labelFontSize": 12,
         "labelPadding": 4,
         "tickColor": "#282828",
         "tickSize": 10,
         "titleFont": "Ubuntu",
         "titleFontSize": 14,
         "titlePadding": 10
        },
        "background": "#FFFAFA",
        "geoshape": {
         "fill": "#C0C0C0"
        },
        "group": {
         "fill": "#FFFAFA"
        },
        "header": {
         "fontWeight": 400,
         "labelFont": "Ubuntu Condensed",
         "labelFontSize": 28,
         "title": " ",
         "titleBaseline": "bottom",
         "titleFont": "Ubuntu",
         "titleFontSize": 28,
         "titleOffset": -30
        },
        "legend": {
         "labelFont": "Ubuntu Condensed",
         "labelFontSize": 16,
         "labelLimit": 500,
         "padding": 10,
         "symbolSize": 100,
         "symbolType": "square",
         "titleFont": "Ubuntu",
         "titleFontSize": 18,
         "titlePadding": 10
        },
        "line": {
         "color": "#282828",
         "stroke": "#282828",
         "strokewidth": 5
        },
        "padding": 10,
        "path": {
         "stroke": "#282828",
         "strokeWidth": 0.5
        },
        "point": {
         "filled": true
        },
        "range": {
         "category": [
          "#dc0d7a",
          "#02a3cd",
          "#e4a100",
          "#dc0d12",
          "#0DDC6F",
          "#074a7e",
          "#e46800",
          "#aa3594",
          "#a20c4b"
         ],
         "diverging": [
          "#dc0d12",
          "#e9686b",
          "#fbe1e1",
          "#dff4f9",
          "#81d1e6",
          "#03a3cd"
         ],
         "heatmap": [
          "#fcdfef",
          "#f8bfde",
          "#f59fce",
          "#f180be",
          "#ee60ad",
          "#eb409d",
          "#e7208c",
          "#e4007c"
         ]
        },
        "rect": {
         "fill": "#A20C4B",
         "opacity": 0.3
        },
        "style": {
         "bar": {
          "binSpacing": 2,
          "fill": "#282828",
          "stroke": false
         },
         "text": {
          "align": "right",
          "dx": 300,
          "font": "Ubuntu Mono",
          "fontSize": 10,
          "fontWeight": 100,
          "href": "https://twitter.com/ChekosWH",
          "size": 10,
          "text": "Made by @ChekosWH"
         }
        },
        "symbol": {
         "opacity": 1,
         "shape": "circle",
         "size": 40,
         "strokeWidth": 1
        },
        "title": {
         "anchor": "start",
         "font": "Ubuntu",
         "fontSize": 24,
         "fontWeight": 600,
         "offset": 20
        },
        "trail": {
         "color": "#282828",
         "size": 5,
         "stroke": "#282828",
         "strokeWidth": 0
        },
        "view": {
         "padding": 15,
         "stroke": false
        }
       },
       "datasets": {
        "data-666ac5f635ff941ddd4679687407a2a3": [
         {
          "educ_level": "Less Than Hs",
          "gap": 0,
          "year": 2007,
          "zero": 0
         },
         {
          "educ_level": "Less Than Hs",
          "gap": -0.0281,
          "year": 2008,
          "zero": 0
         },
         {
          "educ_level": "Less Than Hs",
          "gap": -0.064,
          "year": 2009,
          "zero": 0
         },
         {
          "educ_level": "Less Than Hs",
          "gap": -0.0753,
          "year": 2010,
          "zero": 0
         },
         {
          "educ_level": "Less Than Hs",
          "gap": -0.0774,
          "year": 2011,
          "zero": 0
         },
         {
          "educ_level": "Less Than Hs",
          "gap": -0.0754,
          "year": 2012,
          "zero": 0
         },
         {
          "educ_level": "Less Than Hs",
          "gap": -0.0757,
          "year": 2013,
          "zero": 0
         },
         {
          "educ_level": "Less Than Hs",
          "gap": -0.0659,
          "year": 2014,
          "zero": 0
         },
         {
          "educ_level": "Less Than Hs",
          "gap": -0.0577,
          "year": 2015,
          "zero": 0
         },
         {
          "educ_level": "Less Than Hs",
          "gap": -0.0529,
          "year": 2016,
          "zero": 0
         },
         {
          "educ_level": "Less Than Hs",
          "gap": -0.0471,
          "year": 2017,
          "zero": 0
         },
         {
          "educ_level": "Less Than Hs",
          "gap": -0.0424,
          "year": 2018,
          "zero": 0
         },
         {
          "educ_level": "High School",
          "gap": 0,
          "year": 2007,
          "zero": 0
         },
         {
          "educ_level": "High School",
          "gap": -0.0109,
          "year": 2008,
          "zero": 0
         },
         {
          "educ_level": "High School",
          "gap": -0.0493,
          "year": 2009,
          "zero": 0
         },
         {
          "educ_level": "High School",
          "gap": -0.0553,
          "year": 2010,
          "zero": 0
         },
         {
          "educ_level": "High School",
          "gap": -0.0571,
          "year": 2011,
          "zero": 0
         },
         {
          "educ_level": "High School",
          "gap": -0.0519,
          "year": 2012,
          "zero": 0
         },
         {
          "educ_level": "High School",
          "gap": -0.0495,
          "year": 2013,
          "zero": 0
         },
         {
          "educ_level": "High School",
          "gap": -0.0393,
          "year": 2014,
          "zero": 0
         },
         {
          "educ_level": "High School",
          "gap": -0.0389,
          "year": 2015,
          "zero": 0
         },
         {
          "educ_level": "High School",
          "gap": -0.0317,
          "year": 2016,
          "zero": 0
         },
         {
          "educ_level": "High School",
          "gap": -0.0231,
          "year": 2017,
          "zero": 0
         },
         {
          "educ_level": "High School",
          "gap": -0.0167,
          "year": 2018,
          "zero": 0
         },
         {
          "educ_level": "Some College",
          "gap": 0,
          "year": 2007,
          "zero": 0
         },
         {
          "educ_level": "Some College",
          "gap": -0.0114,
          "year": 2008,
          "zero": 0
         },
         {
          "educ_level": "Some College",
          "gap": -0.0495,
          "year": 2009,
          "zero": 0
         },
         {
          "educ_level": "Some College",
          "gap": -0.0608,
          "year": 2010,
          "zero": 0
         },
         {
          "educ_level": "Some College",
          "gap": -0.062,
          "year": 2011,
          "zero": 0
         },
         {
          "educ_level": "Some College",
          "gap": -0.0566,
          "year": 2012,
          "zero": 0
         },
         {
          "educ_level": "Some College",
          "gap": -0.057999999999999996,
          "year": 2013,
          "zero": 0
         },
         {
          "educ_level": "Some College",
          "gap": -0.0526,
          "year": 2014,
          "zero": 0
         },
         {
          "educ_level": "Some College",
          "gap": -0.0438,
          "year": 2015,
          "zero": 0
         },
         {
          "educ_level": "Some College",
          "gap": -0.0355,
          "year": 2016,
          "zero": 0
         },
         {
          "educ_level": "Some College",
          "gap": -0.031,
          "year": 2017,
          "zero": 0
         },
         {
          "educ_level": "Some College",
          "gap": -0.0294,
          "year": 2018,
          "zero": 0
         },
         {
          "educ_level": "Associate",
          "gap": 0,
          "year": 2007,
          "zero": 0
         },
         {
          "educ_level": "Associate",
          "gap": -0.0068,
          "year": 2008,
          "zero": 0
         },
         {
          "educ_level": "Associate",
          "gap": -0.0357,
          "year": 2009,
          "zero": 0
         },
         {
          "educ_level": "Associate",
          "gap": -0.0431,
          "year": 2010,
          "zero": 0
         },
         {
          "educ_level": "Associate",
          "gap": -0.044000000000000004,
          "year": 2011,
          "zero": 0
         },
         {
          "educ_level": "Associate",
          "gap": -0.0388,
          "year": 2012,
          "zero": 0
         },
         {
          "educ_level": "Associate",
          "gap": -0.0377,
          "year": 2013,
          "zero": 0
         },
         {
          "educ_level": "Associate",
          "gap": -0.0386,
          "year": 2014,
          "zero": 0
         },
         {
          "educ_level": "Associate",
          "gap": -0.0296,
          "year": 2015,
          "zero": 0
         },
         {
          "educ_level": "Associate",
          "gap": -0.0273,
          "year": 2016,
          "zero": 0
         },
         {
          "educ_level": "Associate",
          "gap": -0.0263,
          "year": 2017,
          "zero": 0
         },
         {
          "educ_level": "Associate",
          "gap": -0.0156,
          "year": 2018,
          "zero": 0
         },
         {
          "educ_level": "Bachelors",
          "gap": 0,
          "year": 2007,
          "zero": 0
         },
         {
          "educ_level": "Bachelors",
          "gap": -0.0006,
          "year": 2008,
          "zero": 0
         },
         {
          "educ_level": "Bachelors",
          "gap": -0.0217,
          "year": 2009,
          "zero": 0
         },
         {
          "educ_level": "Bachelors",
          "gap": -0.0284,
          "year": 2010,
          "zero": 0
         },
         {
          "educ_level": "Bachelors",
          "gap": -0.0273,
          "year": 2011,
          "zero": 0
         },
         {
          "educ_level": "Bachelors",
          "gap": -0.0218,
          "year": 2012,
          "zero": 0
         },
         {
          "educ_level": "Bachelors",
          "gap": -0.0203,
          "year": 2013,
          "zero": 0
         },
         {
          "educ_level": "Bachelors",
          "gap": -0.0158,
          "year": 2014,
          "zero": 0
         },
         {
          "educ_level": "Bachelors",
          "gap": -0.0119,
          "year": 2015,
          "zero": 0
         },
         {
          "educ_level": "Bachelors",
          "gap": -0.0103,
          "year": 2016,
          "zero": 0
         },
         {
          "educ_level": "Bachelors",
          "gap": -0.0071,
          "year": 2017,
          "zero": 0
         },
         {
          "educ_level": "Bachelors",
          "gap": -0.0024,
          "year": 2018,
          "zero": 0
         },
         {
          "educ_level": "Advanced Degree",
          "gap": 0,
          "year": 2007,
          "zero": 0
         },
         {
          "educ_level": "Advanced Degree",
          "gap": -0.0005,
          "year": 2008,
          "zero": 0
         },
         {
          "educ_level": "Advanced Degree",
          "gap": -0.0147,
          "year": 2009,
          "zero": 0
         },
         {
          "educ_level": "Advanced Degree",
          "gap": -0.0174,
          "year": 2010,
          "zero": 0
         },
         {
          "educ_level": "Advanced Degree",
          "gap": -0.0133,
          "year": 2011,
          "zero": 0
         },
         {
          "educ_level": "Advanced Degree",
          "gap": -0.0163,
          "year": 2012,
          "zero": 0
         },
         {
          "educ_level": "Advanced Degree",
          "gap": -0.0167,
          "year": 2013,
          "zero": 0
         },
         {
          "educ_level": "Advanced Degree",
          "gap": -0.0173,
          "year": 2014,
          "zero": 0
         },
         {
          "educ_level": "Advanced Degree",
          "gap": -0.0117,
          "year": 2015,
          "zero": 0
         },
         {
          "educ_level": "Advanced Degree",
          "gap": -0.006999999999999999,
          "year": 2016,
          "zero": 0
         },
         {
          "educ_level": "Advanced Degree",
          "gap": -0.0033,
          "year": 2017,
          "zero": 0
         },
         {
          "educ_level": "Advanced Degree",
          "gap": -0.0053,
          "year": 2018,
          "zero": 0
         }
        ],
        "data-720a5a7bfc975dfad75aa164ccd13d0b": [
         {
          "educ_level": "Less Than Hs",
          "gap": 0,
          "year": 2007
         },
         {
          "educ_level": "Less Than Hs",
          "gap": -0.025,
          "year": 2008
         },
         {
          "educ_level": "Less Than Hs",
          "gap": -0.0627,
          "year": 2009
         },
         {
          "educ_level": "Less Than Hs",
          "gap": -0.0614,
          "year": 2010
         },
         {
          "educ_level": "Less Than Hs",
          "gap": -0.0635,
          "year": 2011
         },
         {
          "educ_level": "Less Than Hs",
          "gap": -0.0579,
          "year": 2012
         },
         {
          "educ_level": "Less Than Hs",
          "gap": -0.0467,
          "year": 2013
         },
         {
          "educ_level": "Less Than Hs",
          "gap": -0.0346,
          "year": 2014
         },
         {
          "educ_level": "Less Than Hs",
          "gap": -0.0323,
          "year": 2015
         },
         {
          "educ_level": "Less Than Hs",
          "gap": -0.0224,
          "year": 2016
         },
         {
          "educ_level": "Less Than Hs",
          "gap": -0.0136,
          "year": 2017
         },
         {
          "educ_level": "Less Than Hs",
          "gap": -0.0312,
          "year": 2018
         },
         {
          "educ_level": "High School",
          "gap": 0,
          "year": 2007
         },
         {
          "educ_level": "High School",
          "gap": -0.0252,
          "year": 2008
         },
         {
          "educ_level": "High School",
          "gap": -0.071,
          "year": 2009
         },
         {
          "educ_level": "High School",
          "gap": -0.0728,
          "year": 2010
         },
         {
          "educ_level": "High School",
          "gap": -0.0858,
          "year": 2011
         },
         {
          "educ_level": "High School",
          "gap": -0.0875,
          "year": 2012
         },
         {
          "educ_level": "High School",
          "gap": -0.0774,
          "year": 2013
         },
         {
          "educ_level": "High School",
          "gap": -0.0629,
          "year": 2014
         },
         {
          "educ_level": "High School",
          "gap": -0.045,
          "year": 2015
         },
         {
          "educ_level": "High School",
          "gap": -0.0404,
          "year": 2016
         },
         {
          "educ_level": "High School",
          "gap": -0.0348,
          "year": 2017
         },
         {
          "educ_level": "High School",
          "gap": -0.025,
          "year": 2018
         },
         {
          "educ_level": "Some College",
          "gap": 0,
          "year": 2007
         },
         {
          "educ_level": "Some College",
          "gap": -0.0119,
          "year": 2008
         },
         {
          "educ_level": "Some College",
          "gap": -0.0638,
          "year": 2009
         },
         {
          "educ_level": "Some College",
          "gap": -0.0881,
          "year": 2010
         },
         {
          "educ_level": "Some College",
          "gap": -0.0821,
          "year": 2011
         },
         {
          "educ_level": "Some College",
          "gap": -0.0716,
          "year": 2012
         },
         {
          "educ_level": "Some College",
          "gap": -0.0762,
          "year": 2013
         },
         {
          "educ_level": "Some College",
          "gap": -0.0693,
          "year": 2014
         },
         {
          "educ_level": "Some College",
          "gap": -0.0615,
          "year": 2015
         },
         {
          "educ_level": "Some College",
          "gap": -0.0465,
          "year": 2016
         },
         {
          "educ_level": "Some College",
          "gap": -0.0377,
          "year": 2017
         },
         {
          "educ_level": "Some College",
          "gap": -0.0287,
          "year": 2018
         },
         {
          "educ_level": "Associate",
          "gap": 0,
          "year": 2007
         },
         {
          "educ_level": "Associate",
          "gap": -0.013999999999999999,
          "year": 2008
         },
         {
          "educ_level": "Associate",
          "gap": -0.0364,
          "year": 2009
         },
         {
          "educ_level": "Associate",
          "gap": -0.0404,
          "year": 2010
         },
         {
          "educ_level": "Associate",
          "gap": -0.0471,
          "year": 2011
         },
         {
          "educ_level": "Associate",
          "gap": -0.0481,
          "year": 2012
         },
         {
          "educ_level": "Associate",
          "gap": -0.0543,
          "year": 2013
         },
         {
          "educ_level": "Associate",
          "gap": -0.0613,
          "year": 2014
         },
         {
          "educ_level": "Associate",
          "gap": -0.0405,
          "year": 2015
         },
         {
          "educ_level": "Associate",
          "gap": -0.0431,
          "year": 2016
         },
         {
          "educ_level": "Associate",
          "gap": -0.0498,
          "year": 2017
         },
         {
          "educ_level": "Associate",
          "gap": 0.0113,
          "year": 2018
         },
         {
          "educ_level": "Bachelors",
          "gap": 0,
          "year": 2007
         },
         {
          "educ_level": "Bachelors",
          "gap": -0.0016,
          "year": 2008
         },
         {
          "educ_level": "Bachelors",
          "gap": -0.0296,
          "year": 2009
         },
         {
          "educ_level": "Bachelors",
          "gap": -0.0435,
          "year": 2010
         },
         {
          "educ_level": "Bachelors",
          "gap": -0.0392,
          "year": 2011
         },
         {
          "educ_level": "Bachelors",
          "gap": -0.0327,
          "year": 2012
         },
         {
          "educ_level": "Bachelors",
          "gap": -0.0254,
          "year": 2013
         },
         {
          "educ_level": "Bachelors",
          "gap": -0.0203,
          "year": 2014
         },
         {
          "educ_level": "Bachelors",
          "gap": -0.016,
          "year": 2015
         },
         {
          "educ_level": "Bachelors",
          "gap": -0.0159,
          "year": 2016
         },
         {
          "educ_level": "Bachelors",
          "gap": -0.0077,
          "year": 2017
         },
         {
          "educ_level": "Bachelors",
          "gap": -0.0207,
          "year": 2018
         },
         {
          "educ_level": "Advanced Degree",
          "gap": 0,
          "year": 2007
         },
         {
          "educ_level": "Advanced Degree",
          "gap": -0.0044,
          "year": 2008
         },
         {
          "educ_level": "Advanced Degree",
          "gap": -0.0192,
          "year": 2009
         },
         {
          "educ_level": "Advanced Degree",
          "gap": -0.0264,
          "year": 2010
         },
         {
          "educ_level": "Advanced Degree",
          "gap": -0.018000000000000002,
          "year": 2011
         },
         {
          "educ_level": "Advanced Degree",
          "gap": -0.0406,
          "year": 2012
         },
         {
          "educ_level": "Advanced Degree",
          "gap": -0.0316,
          "year": 2013
         },
         {
          "educ_level": "Advanced Degree",
          "gap": -0.0378,
          "year": 2014
         },
         {
          "educ_level": "Advanced Degree",
          "gap": -0.0389,
          "year": 2015
         },
         {
          "educ_level": "Advanced Degree",
          "gap": -0.0363,
          "year": 2016
         },
         {
          "educ_level": "Advanced Degree",
          "gap": -0.0208,
          "year": 2017
         },
         {
          "educ_level": "Advanced Degree",
          "gap": -0.0175,
          "year": 2018
         }
        ]
       },
       "height": 800,
       "layer": [
        {
         "data": {
          "name": "data-720a5a7bfc975dfad75aa164ccd13d0b"
         },
         "encoding": {
          "color": {
           "field": "educ_level",
           "legend": {
            "title": "education",
            "values": [
             "Less Than Hs",
             "High School",
             "Some College",
             "Associate",
             "Bachelors",
             "Advanced Degree"
            ]
           },
           "type": "nominal"
          },
          "x": {
           "field": "year",
           "type": "ordinal"
          },
          "y": {
           "axis": {
            "format": "%"
           },
           "field": "gap",
           "scale": {
            "domain": [
             -0.1,
             0.02
            ]
           },
           "type": "quantitative"
          }
         },
         "height": 400,
         "mark": "line",
         "title": "Age Adjusted Employment-to-Population Ratio by Educational Attainment (CA)",
         "width": 850
        },
        {
         "data": {
          "name": "data-666ac5f635ff941ddd4679687407a2a3"
         },
         "encoding": {
          "size": {
           "value": 0.1
          },
          "y": {
           "axis": {
            "title": ""
           },
           "field": "zero",
           "type": "quantitative"
          }
         },
         "mark": {
          "color": "black",
          "type": "rule"
         }
        }
       ],
       "width": 1080
      },
      "image/png": "[encoded data removed]",
      "text/plain": [
       "<VegaLite 2 object>\n",
       "\n",
       "If you see this message, it means the renderer has not been properly enabled\n",
       "for the frontend that you are using. For more information, see\n",
       "https://altair-viz.github.io/user_guide/troubleshooting.html\n"
      ]
     },
     "execution_count": 13,
     "metadata": {},
     "output_type": "execute_result"
    }
   ],
   "source": [
    "chart_CA = alt.Chart(CA).mark_line().encode(\n",
    "            x = alt.X('year:O'),\n",
    "            y = alt.Y(\"gap:Q\", axis = alt.Axis(format = \"%\"), scale = alt.Scale(domain = [-0.10, 0.02])),\n",
    "            color = alt.Color(\"educ_level:N\", legend = alt.Legend(values = educ_levels, title = \"education\"), )\n",
    ").properties(\n",
    "    width = 850,\n",
    "    height = 400,\n",
    "    title = \"Age Adjusted Employment-to-Population Ratio by Educational Attainment (CA)\",\n",
    ")\n",
    "\n",
    "final_CA = chart_CA + line\n",
    "\n",
    "final_CA"
   ]
  },
  {
   "cell_type": "code",
   "execution_count": 14,
   "metadata": {},
   "outputs": [
    {
     "data": {
      "application/vnd.vegalite.v2+json": {
       "$schema": "https://vega.github.io/schema/vega-lite/v2.6.0.json",
       "autosize": "fit",
       "config": {
        "arc": {
         "fill": "#282828"
        },
        "area": {
         "fill": "#282828"
        },
        "axisBand": {
         "grid": false
        },
        "axisBottom": {
         "domain": false,
         "domainColor": "black",
         "domainWidth": 3,
         "grid": true,
         "gridColor": "#C9C9C9",
         "gridWidth": 1,
         "labelAngle": 0,
         "labelFont": "Ubuntu Condensed",
         "labelFontSize": 20,
         "labelPadding": 8,
         "tickColor": "#282828",
         "tickSize": 10,
         "title": "",
         "titleFont": "Ubuntu",
         "titleFontSize": 16,
         "titlePadding": 10
        },
        "axisLeft": {
         "domainColor": "#282828",
         "domainWidth": 1,
         "gridColor": "#C9C9C9",
         "gridWidth": 1,
         "labelFont": "Ubuntu Condensed",
         "labelFontSize": 20,
         "labelPadding": 8,
         "tickColor": "#282828",
         "tickSize": 10,
         "ticks": true,
         "titleFont": "Ubuntu",
         "titleFontSize": 22,
         "titlePadding": 10
        },
        "axisRight": {
         "domainColor": "#282828",
         "domainWidth": 1,
         "gridColor": "#C9C9C9",
         "gridWidth": 1,
         "labelFont": "Ubuntu Condensed",
         "labelFontSize": 12,
         "labelPadding": 4,
         "tickColor": "#282828",
         "tickSize": 10,
         "ticks": true,
         "titleFont": "Ubuntu",
         "titleFontSize": 14,
         "titlePadding": 10
        },
        "axisTop": {
         "domain": false,
         "domainColor": "black",
         "domainWidth": 3,
         "grid": true,
         "gridColor": "#C9C9C9",
         "gridWidth": 1,
         "labelFont": "Ubuntu Condensed",
         "labelFontSize": 12,
         "labelPadding": 4,
         "tickColor": "#282828",
         "tickSize": 10,
         "titleFont": "Ubuntu",
         "titleFontSize": 14,
         "titlePadding": 10
        },
        "background": "#FFFAFA",
        "geoshape": {
         "fill": "#C0C0C0"
        },
        "group": {
         "fill": "#FFFAFA"
        },
        "header": {
         "fontWeight": 400,
         "labelFont": "Ubuntu Condensed",
         "labelFontSize": 28,
         "title": " ",
         "titleBaseline": "bottom",
         "titleFont": "Ubuntu",
         "titleFontSize": 28,
         "titleOffset": -30
        },
        "legend": {
         "labelFont": "Ubuntu Condensed",
         "labelFontSize": 16,
         "labelLimit": 500,
         "padding": 10,
         "symbolSize": 100,
         "symbolType": "square",
         "titleFont": "Ubuntu",
         "titleFontSize": 18,
         "titlePadding": 10
        },
        "line": {
         "color": "#282828",
         "stroke": "#282828",
         "strokewidth": 5
        },
        "padding": 10,
        "path": {
         "stroke": "#282828",
         "strokeWidth": 0.5
        },
        "point": {
         "filled": true
        },
        "range": {
         "category": [
          "#dc0d7a",
          "#02a3cd",
          "#e4a100",
          "#dc0d12",
          "#0DDC6F",
          "#074a7e",
          "#e46800",
          "#aa3594",
          "#a20c4b"
         ],
         "diverging": [
          "#dc0d12",
          "#e9686b",
          "#fbe1e1",
          "#dff4f9",
          "#81d1e6",
          "#03a3cd"
         ],
         "heatmap": [
          "#fcdfef",
          "#f8bfde",
          "#f59fce",
          "#f180be",
          "#ee60ad",
          "#eb409d",
          "#e7208c",
          "#e4007c"
         ]
        },
        "rect": {
         "fill": "#A20C4B",
         "opacity": 0.3
        },
        "style": {
         "bar": {
          "binSpacing": 2,
          "fill": "#282828",
          "stroke": false
         },
         "text": {
          "align": "right",
          "dx": 300,
          "font": "Ubuntu Mono",
          "fontSize": 10,
          "fontWeight": 100,
          "href": "https://twitter.com/ChekosWH",
          "size": 10,
          "text": "Made by @ChekosWH"
         }
        },
        "symbol": {
         "opacity": 1,
         "shape": "circle",
         "size": 40,
         "strokeWidth": 1
        },
        "title": {
         "anchor": "start",
         "font": "Ubuntu",
         "fontSize": 24,
         "fontWeight": 600,
         "offset": 20
        },
        "trail": {
         "color": "#282828",
         "size": 5,
         "stroke": "#282828",
         "strokeWidth": 0
        },
        "view": {
         "padding": 15,
         "stroke": false
        }
       },
       "datasets": {
        "data-666ac5f635ff941ddd4679687407a2a3": [
         {
          "educ_level": "Less Than Hs",
          "gap": 0,
          "year": 2007,
          "zero": 0
         },
         {
          "educ_level": "Less Than Hs",
          "gap": -0.0281,
          "year": 2008,
          "zero": 0
         },
         {
          "educ_level": "Less Than Hs",
          "gap": -0.064,
          "year": 2009,
          "zero": 0
         },
         {
          "educ_level": "Less Than Hs",
          "gap": -0.0753,
          "year": 2010,
          "zero": 0
         },
         {
          "educ_level": "Less Than Hs",
          "gap": -0.0774,
          "year": 2011,
          "zero": 0
         },
         {
          "educ_level": "Less Than Hs",
          "gap": -0.0754,
          "year": 2012,
          "zero": 0
         },
         {
          "educ_level": "Less Than Hs",
          "gap": -0.0757,
          "year": 2013,
          "zero": 0
         },
         {
          "educ_level": "Less Than Hs",
          "gap": -0.0659,
          "year": 2014,
          "zero": 0
         },
         {
          "educ_level": "Less Than Hs",
          "gap": -0.0577,
          "year": 2015,
          "zero": 0
         },
         {
          "educ_level": "Less Than Hs",
          "gap": -0.0529,
          "year": 2016,
          "zero": 0
         },
         {
          "educ_level": "Less Than Hs",
          "gap": -0.0471,
          "year": 2017,
          "zero": 0
         },
         {
          "educ_level": "Less Than Hs",
          "gap": -0.0424,
          "year": 2018,
          "zero": 0
         },
         {
          "educ_level": "High School",
          "gap": 0,
          "year": 2007,
          "zero": 0
         },
         {
          "educ_level": "High School",
          "gap": -0.0109,
          "year": 2008,
          "zero": 0
         },
         {
          "educ_level": "High School",
          "gap": -0.0493,
          "year": 2009,
          "zero": 0
         },
         {
          "educ_level": "High School",
          "gap": -0.0553,
          "year": 2010,
          "zero": 0
         },
         {
          "educ_level": "High School",
          "gap": -0.0571,
          "year": 2011,
          "zero": 0
         },
         {
          "educ_level": "High School",
          "gap": -0.0519,
          "year": 2012,
          "zero": 0
         },
         {
          "educ_level": "High School",
          "gap": -0.0495,
          "year": 2013,
          "zero": 0
         },
         {
          "educ_level": "High School",
          "gap": -0.0393,
          "year": 2014,
          "zero": 0
         },
         {
          "educ_level": "High School",
          "gap": -0.0389,
          "year": 2015,
          "zero": 0
         },
         {
          "educ_level": "High School",
          "gap": -0.0317,
          "year": 2016,
          "zero": 0
         },
         {
          "educ_level": "High School",
          "gap": -0.0231,
          "year": 2017,
          "zero": 0
         },
         {
          "educ_level": "High School",
          "gap": -0.0167,
          "year": 2018,
          "zero": 0
         },
         {
          "educ_level": "Some College",
          "gap": 0,
          "year": 2007,
          "zero": 0
         },
         {
          "educ_level": "Some College",
          "gap": -0.0114,
          "year": 2008,
          "zero": 0
         },
         {
          "educ_level": "Some College",
          "gap": -0.0495,
          "year": 2009,
          "zero": 0
         },
         {
          "educ_level": "Some College",
          "gap": -0.0608,
          "year": 2010,
          "zero": 0
         },
         {
          "educ_level": "Some College",
          "gap": -0.062,
          "year": 2011,
          "zero": 0
         },
         {
          "educ_level": "Some College",
          "gap": -0.0566,
          "year": 2012,
          "zero": 0
         },
         {
          "educ_level": "Some College",
          "gap": -0.057999999999999996,
          "year": 2013,
          "zero": 0
         },
         {
          "educ_level": "Some College",
          "gap": -0.0526,
          "year": 2014,
          "zero": 0
         },
         {
          "educ_level": "Some College",
          "gap": -0.0438,
          "year": 2015,
          "zero": 0
         },
         {
          "educ_level": "Some College",
          "gap": -0.0355,
          "year": 2016,
          "zero": 0
         },
         {
          "educ_level": "Some College",
          "gap": -0.031,
          "year": 2017,
          "zero": 0
         },
         {
          "educ_level": "Some College",
          "gap": -0.0294,
          "year": 2018,
          "zero": 0
         },
         {
          "educ_level": "Associate",
          "gap": 0,
          "year": 2007,
          "zero": 0
         },
         {
          "educ_level": "Associate",
          "gap": -0.0068,
          "year": 2008,
          "zero": 0
         },
         {
          "educ_level": "Associate",
          "gap": -0.0357,
          "year": 2009,
          "zero": 0
         },
         {
          "educ_level": "Associate",
          "gap": -0.0431,
          "year": 2010,
          "zero": 0
         },
         {
          "educ_level": "Associate",
          "gap": -0.044000000000000004,
          "year": 2011,
          "zero": 0
         },
         {
          "educ_level": "Associate",
          "gap": -0.0388,
          "year": 2012,
          "zero": 0
         },
         {
          "educ_level": "Associate",
          "gap": -0.0377,
          "year": 2013,
          "zero": 0
         },
         {
          "educ_level": "Associate",
          "gap": -0.0386,
          "year": 2014,
          "zero": 0
         },
         {
          "educ_level": "Associate",
          "gap": -0.0296,
          "year": 2015,
          "zero": 0
         },
         {
          "educ_level": "Associate",
          "gap": -0.0273,
          "year": 2016,
          "zero": 0
         },
         {
          "educ_level": "Associate",
          "gap": -0.0263,
          "year": 2017,
          "zero": 0
         },
         {
          "educ_level": "Associate",
          "gap": -0.0156,
          "year": 2018,
          "zero": 0
         },
         {
          "educ_level": "Bachelors",
          "gap": 0,
          "year": 2007,
          "zero": 0
         },
         {
          "educ_level": "Bachelors",
          "gap": -0.0006,
          "year": 2008,
          "zero": 0
         },
         {
          "educ_level": "Bachelors",
          "gap": -0.0217,
          "year": 2009,
          "zero": 0
         },
         {
          "educ_level": "Bachelors",
          "gap": -0.0284,
          "year": 2010,
          "zero": 0
         },
         {
          "educ_level": "Bachelors",
          "gap": -0.0273,
          "year": 2011,
          "zero": 0
         },
         {
          "educ_level": "Bachelors",
          "gap": -0.0218,
          "year": 2012,
          "zero": 0
         },
         {
          "educ_level": "Bachelors",
          "gap": -0.0203,
          "year": 2013,
          "zero": 0
         },
         {
          "educ_level": "Bachelors",
          "gap": -0.0158,
          "year": 2014,
          "zero": 0
         },
         {
          "educ_level": "Bachelors",
          "gap": -0.0119,
          "year": 2015,
          "zero": 0
         },
         {
          "educ_level": "Bachelors",
          "gap": -0.0103,
          "year": 2016,
          "zero": 0
         },
         {
          "educ_level": "Bachelors",
          "gap": -0.0071,
          "year": 2017,
          "zero": 0
         },
         {
          "educ_level": "Bachelors",
          "gap": -0.0024,
          "year": 2018,
          "zero": 0
         },
         {
          "educ_level": "Advanced Degree",
          "gap": 0,
          "year": 2007,
          "zero": 0
         },
         {
          "educ_level": "Advanced Degree",
          "gap": -0.0005,
          "year": 2008,
          "zero": 0
         },
         {
          "educ_level": "Advanced Degree",
          "gap": -0.0147,
          "year": 2009,
          "zero": 0
         },
         {
          "educ_level": "Advanced Degree",
          "gap": -0.0174,
          "year": 2010,
          "zero": 0
         },
         {
          "educ_level": "Advanced Degree",
          "gap": -0.0133,
          "year": 2011,
          "zero": 0
         },
         {
          "educ_level": "Advanced Degree",
          "gap": -0.0163,
          "year": 2012,
          "zero": 0
         },
         {
          "educ_level": "Advanced Degree",
          "gap": -0.0167,
          "year": 2013,
          "zero": 0
         },
         {
          "educ_level": "Advanced Degree",
          "gap": -0.0173,
          "year": 2014,
          "zero": 0
         },
         {
          "educ_level": "Advanced Degree",
          "gap": -0.0117,
          "year": 2015,
          "zero": 0
         },
         {
          "educ_level": "Advanced Degree",
          "gap": -0.006999999999999999,
          "year": 2016,
          "zero": 0
         },
         {
          "educ_level": "Advanced Degree",
          "gap": -0.0033,
          "year": 2017,
          "zero": 0
         },
         {
          "educ_level": "Advanced Degree",
          "gap": -0.0053,
          "year": 2018,
          "zero": 0
         }
        ],
        "data-720a5a7bfc975dfad75aa164ccd13d0b": [
         {
          "educ_level": "Less Than Hs",
          "gap": 0,
          "year": 2007
         },
         {
          "educ_level": "Less Than Hs",
          "gap": -0.025,
          "year": 2008
         },
         {
          "educ_level": "Less Than Hs",
          "gap": -0.0627,
          "year": 2009
         },
         {
          "educ_level": "Less Than Hs",
          "gap": -0.0614,
          "year": 2010
         },
         {
          "educ_level": "Less Than Hs",
          "gap": -0.0635,
          "year": 2011
         },
         {
          "educ_level": "Less Than Hs",
          "gap": -0.0579,
          "year": 2012
         },
         {
          "educ_level": "Less Than Hs",
          "gap": -0.0467,
          "year": 2013
         },
         {
          "educ_level": "Less Than Hs",
          "gap": -0.0346,
          "year": 2014
         },
         {
          "educ_level": "Less Than Hs",
          "gap": -0.0323,
          "year": 2015
         },
         {
          "educ_level": "Less Than Hs",
          "gap": -0.0224,
          "year": 2016
         },
         {
          "educ_level": "Less Than Hs",
          "gap": -0.0136,
          "year": 2017
         },
         {
          "educ_level": "Less Than Hs",
          "gap": -0.0312,
          "year": 2018
         },
         {
          "educ_level": "High School",
          "gap": 0,
          "year": 2007
         },
         {
          "educ_level": "High School",
          "gap": -0.0252,
          "year": 2008
         },
         {
          "educ_level": "High School",
          "gap": -0.071,
          "year": 2009
         },
         {
          "educ_level": "High School",
          "gap": -0.0728,
          "year": 2010
         },
         {
          "educ_level": "High School",
          "gap": -0.0858,
          "year": 2011
         },
         {
          "educ_level": "High School",
          "gap": -0.0875,
          "year": 2012
         },
         {
          "educ_level": "High School",
          "gap": -0.0774,
          "year": 2013
         },
         {
          "educ_level": "High School",
          "gap": -0.0629,
          "year": 2014
         },
         {
          "educ_level": "High School",
          "gap": -0.045,
          "year": 2015
         },
         {
          "educ_level": "High School",
          "gap": -0.0404,
          "year": 2016
         },
         {
          "educ_level": "High School",
          "gap": -0.0348,
          "year": 2017
         },
         {
          "educ_level": "High School",
          "gap": -0.025,
          "year": 2018
         },
         {
          "educ_level": "Some College",
          "gap": 0,
          "year": 2007
         },
         {
          "educ_level": "Some College",
          "gap": -0.0119,
          "year": 2008
         },
         {
          "educ_level": "Some College",
          "gap": -0.0638,
          "year": 2009
         },
         {
          "educ_level": "Some College",
          "gap": -0.0881,
          "year": 2010
         },
         {
          "educ_level": "Some College",
          "gap": -0.0821,
          "year": 2011
         },
         {
          "educ_level": "Some College",
          "gap": -0.0716,
          "year": 2012
         },
         {
          "educ_level": "Some College",
          "gap": -0.0762,
          "year": 2013
         },
         {
          "educ_level": "Some College",
          "gap": -0.0693,
          "year": 2014
         },
         {
          "educ_level": "Some College",
          "gap": -0.0615,
          "year": 2015
         },
         {
          "educ_level": "Some College",
          "gap": -0.0465,
          "year": 2016
         },
         {
          "educ_level": "Some College",
          "gap": -0.0377,
          "year": 2017
         },
         {
          "educ_level": "Some College",
          "gap": -0.0287,
          "year": 2018
         },
         {
          "educ_level": "Associate",
          "gap": 0,
          "year": 2007
         },
         {
          "educ_level": "Associate",
          "gap": -0.013999999999999999,
          "year": 2008
         },
         {
          "educ_level": "Associate",
          "gap": -0.0364,
          "year": 2009
         },
         {
          "educ_level": "Associate",
          "gap": -0.0404,
          "year": 2010
         },
         {
          "educ_level": "Associate",
          "gap": -0.0471,
          "year": 2011
         },
         {
          "educ_level": "Associate",
          "gap": -0.0481,
          "year": 2012
         },
         {
          "educ_level": "Associate",
          "gap": -0.0543,
          "year": 2013
         },
         {
          "educ_level": "Associate",
          "gap": -0.0613,
          "year": 2014
         },
         {
          "educ_level": "Associate",
          "gap": -0.0405,
          "year": 2015
         },
         {
          "educ_level": "Associate",
          "gap": -0.0431,
          "year": 2016
         },
         {
          "educ_level": "Associate",
          "gap": -0.0498,
          "year": 2017
         },
         {
          "educ_level": "Associate",
          "gap": 0.0113,
          "year": 2018
         },
         {
          "educ_level": "Bachelors",
          "gap": 0,
          "year": 2007
         },
         {
          "educ_level": "Bachelors",
          "gap": -0.0016,
          "year": 2008
         },
         {
          "educ_level": "Bachelors",
          "gap": -0.0296,
          "year": 2009
         },
         {
          "educ_level": "Bachelors",
          "gap": -0.0435,
          "year": 2010
         },
         {
          "educ_level": "Bachelors",
          "gap": -0.0392,
          "year": 2011
         },
         {
          "educ_level": "Bachelors",
          "gap": -0.0327,
          "year": 2012
         },
         {
          "educ_level": "Bachelors",
          "gap": -0.0254,
          "year": 2013
         },
         {
          "educ_level": "Bachelors",
          "gap": -0.0203,
          "year": 2014
         },
         {
          "educ_level": "Bachelors",
          "gap": -0.016,
          "year": 2015
         },
         {
          "educ_level": "Bachelors",
          "gap": -0.0159,
          "year": 2016
         },
         {
          "educ_level": "Bachelors",
          "gap": -0.0077,
          "year": 2017
         },
         {
          "educ_level": "Bachelors",
          "gap": -0.0207,
          "year": 2018
         },
         {
          "educ_level": "Advanced Degree",
          "gap": 0,
          "year": 2007
         },
         {
          "educ_level": "Advanced Degree",
          "gap": -0.0044,
          "year": 2008
         },
         {
          "educ_level": "Advanced Degree",
          "gap": -0.0192,
          "year": 2009
         },
         {
          "educ_level": "Advanced Degree",
          "gap": -0.0264,
          "year": 2010
         },
         {
          "educ_level": "Advanced Degree",
          "gap": -0.018000000000000002,
          "year": 2011
         },
         {
          "educ_level": "Advanced Degree",
          "gap": -0.0406,
          "year": 2012
         },
         {
          "educ_level": "Advanced Degree",
          "gap": -0.0316,
          "year": 2013
         },
         {
          "educ_level": "Advanced Degree",
          "gap": -0.0378,
          "year": 2014
         },
         {
          "educ_level": "Advanced Degree",
          "gap": -0.0389,
          "year": 2015
         },
         {
          "educ_level": "Advanced Degree",
          "gap": -0.0363,
          "year": 2016
         },
         {
          "educ_level": "Advanced Degree",
          "gap": -0.0208,
          "year": 2017
         },
         {
          "educ_level": "Advanced Degree",
          "gap": -0.0175,
          "year": 2018
         }
        ],
        "data-a30037ba1f76948bfbf69ff03e11b484": [
         {
          "educ_level": "Less Than Hs",
          "gap": 0,
          "year": 2007
         },
         {
          "educ_level": "Less Than Hs",
          "gap": -0.0281,
          "year": 2008
         },
         {
          "educ_level": "Less Than Hs",
          "gap": -0.064,
          "year": 2009
         },
         {
          "educ_level": "Less Than Hs",
          "gap": -0.0753,
          "year": 2010
         },
         {
          "educ_level": "Less Than Hs",
          "gap": -0.0774,
          "year": 2011
         },
         {
          "educ_level": "Less Than Hs",
          "gap": -0.0754,
          "year": 2012
         },
         {
          "educ_level": "Less Than Hs",
          "gap": -0.0757,
          "year": 2013
         },
         {
          "educ_level": "Less Than Hs",
          "gap": -0.0659,
          "year": 2014
         },
         {
          "educ_level": "Less Than Hs",
          "gap": -0.0577,
          "year": 2015
         },
         {
          "educ_level": "Less Than Hs",
          "gap": -0.0529,
          "year": 2016
         },
         {
          "educ_level": "Less Than Hs",
          "gap": -0.0471,
          "year": 2017
         },
         {
          "educ_level": "Less Than Hs",
          "gap": -0.0424,
          "year": 2018
         },
         {
          "educ_level": "High School",
          "gap": 0,
          "year": 2007
         },
         {
          "educ_level": "High School",
          "gap": -0.0109,
          "year": 2008
         },
         {
          "educ_level": "High School",
          "gap": -0.0493,
          "year": 2009
         },
         {
          "educ_level": "High School",
          "gap": -0.0553,
          "year": 2010
         },
         {
          "educ_level": "High School",
          "gap": -0.0571,
          "year": 2011
         },
         {
          "educ_level": "High School",
          "gap": -0.0519,
          "year": 2012
         },
         {
          "educ_level": "High School",
          "gap": -0.0495,
          "year": 2013
         },
         {
          "educ_level": "High School",
          "gap": -0.0393,
          "year": 2014
         },
         {
          "educ_level": "High School",
          "gap": -0.0389,
          "year": 2015
         },
         {
          "educ_level": "High School",
          "gap": -0.0317,
          "year": 2016
         },
         {
          "educ_level": "High School",
          "gap": -0.0231,
          "year": 2017
         },
         {
          "educ_level": "High School",
          "gap": -0.0167,
          "year": 2018
         },
         {
          "educ_level": "Some College",
          "gap": 0,
          "year": 2007
         },
         {
          "educ_level": "Some College",
          "gap": -0.0114,
          "year": 2008
         },
         {
          "educ_level": "Some College",
          "gap": -0.0495,
          "year": 2009
         },
         {
          "educ_level": "Some College",
          "gap": -0.0608,
          "year": 2010
         },
         {
          "educ_level": "Some College",
          "gap": -0.062,
          "year": 2011
         },
         {
          "educ_level": "Some College",
          "gap": -0.0566,
          "year": 2012
         },
         {
          "educ_level": "Some College",
          "gap": -0.057999999999999996,
          "year": 2013
         },
         {
          "educ_level": "Some College",
          "gap": -0.0526,
          "year": 2014
         },
         {
          "educ_level": "Some College",
          "gap": -0.0438,
          "year": 2015
         },
         {
          "educ_level": "Some College",
          "gap": -0.0355,
          "year": 2016
         },
         {
          "educ_level": "Some College",
          "gap": -0.031,
          "year": 2017
         },
         {
          "educ_level": "Some College",
          "gap": -0.0294,
          "year": 2018
         },
         {
          "educ_level": "Associate",
          "gap": 0,
          "year": 2007
         },
         {
          "educ_level": "Associate",
          "gap": -0.0068,
          "year": 2008
         },
         {
          "educ_level": "Associate",
          "gap": -0.0357,
          "year": 2009
         },
         {
          "educ_level": "Associate",
          "gap": -0.0431,
          "year": 2010
         },
         {
          "educ_level": "Associate",
          "gap": -0.044000000000000004,
          "year": 2011
         },
         {
          "educ_level": "Associate",
          "gap": -0.0388,
          "year": 2012
         },
         {
          "educ_level": "Associate",
          "gap": -0.0377,
          "year": 2013
         },
         {
          "educ_level": "Associate",
          "gap": -0.0386,
          "year": 2014
         },
         {
          "educ_level": "Associate",
          "gap": -0.0296,
          "year": 2015
         },
         {
          "educ_level": "Associate",
          "gap": -0.0273,
          "year": 2016
         },
         {
          "educ_level": "Associate",
          "gap": -0.0263,
          "year": 2017
         },
         {
          "educ_level": "Associate",
          "gap": -0.0156,
          "year": 2018
         },
         {
          "educ_level": "Bachelors",
          "gap": 0,
          "year": 2007
         },
         {
          "educ_level": "Bachelors",
          "gap": -0.0006,
          "year": 2008
         },
         {
          "educ_level": "Bachelors",
          "gap": -0.0217,
          "year": 2009
         },
         {
          "educ_level": "Bachelors",
          "gap": -0.0284,
          "year": 2010
         },
         {
          "educ_level": "Bachelors",
          "gap": -0.0273,
          "year": 2011
         },
         {
          "educ_level": "Bachelors",
          "gap": -0.0218,
          "year": 2012
         },
         {
          "educ_level": "Bachelors",
          "gap": -0.0203,
          "year": 2013
         },
         {
          "educ_level": "Bachelors",
          "gap": -0.0158,
          "year": 2014
         },
         {
          "educ_level": "Bachelors",
          "gap": -0.0119,
          "year": 2015
         },
         {
          "educ_level": "Bachelors",
          "gap": -0.0103,
          "year": 2016
         },
         {
          "educ_level": "Bachelors",
          "gap": -0.0071,
          "year": 2017
         },
         {
          "educ_level": "Bachelors",
          "gap": -0.0024,
          "year": 2018
         },
         {
          "educ_level": "Advanced Degree",
          "gap": 0,
          "year": 2007
         },
         {
          "educ_level": "Advanced Degree",
          "gap": -0.0005,
          "year": 2008
         },
         {
          "educ_level": "Advanced Degree",
          "gap": -0.0147,
          "year": 2009
         },
         {
          "educ_level": "Advanced Degree",
          "gap": -0.0174,
          "year": 2010
         },
         {
          "educ_level": "Advanced Degree",
          "gap": -0.0133,
          "year": 2011
         },
         {
          "educ_level": "Advanced Degree",
          "gap": -0.0163,
          "year": 2012
         },
         {
          "educ_level": "Advanced Degree",
          "gap": -0.0167,
          "year": 2013
         },
         {
          "educ_level": "Advanced Degree",
          "gap": -0.0173,
          "year": 2014
         },
         {
          "educ_level": "Advanced Degree",
          "gap": -0.0117,
          "year": 2015
         },
         {
          "educ_level": "Advanced Degree",
          "gap": -0.006999999999999999,
          "year": 2016
         },
         {
          "educ_level": "Advanced Degree",
          "gap": -0.0033,
          "year": 2017
         },
         {
          "educ_level": "Advanced Degree",
          "gap": -0.0053,
          "year": 2018
         }
        ]
       },
       "height": 800,
       "vconcat": [
        {
         "layer": [
          {
           "data": {
            "name": "data-720a5a7bfc975dfad75aa164ccd13d0b"
           },
           "encoding": {
            "color": {
             "field": "educ_level",
             "legend": {
              "title": "education",
              "values": [
               "Less Than Hs",
               "High School",
               "Some College",
               "Associate",
               "Bachelors",
               "Advanced Degree"
              ]
             },
             "type": "nominal"
            },
            "x": {
             "field": "year",
             "type": "ordinal"
            },
            "y": {
             "axis": {
              "format": "%"
             },
             "field": "gap",
             "scale": {
              "domain": [
               -0.1,
               0.02
              ]
             },
             "type": "quantitative"
            }
           },
           "height": 400,
           "mark": "line",
           "title": "Age Adjusted Employment-to-Population Ratio by Educational Attainment (CA)",
           "width": 850
          },
          {
           "data": {
            "name": "data-666ac5f635ff941ddd4679687407a2a3"
           },
           "encoding": {
            "size": {
             "value": 0.1
            },
            "y": {
             "axis": {
              "title": ""
             },
             "field": "zero",
             "type": "quantitative"
            }
           },
           "mark": {
            "color": "black",
            "type": "rule"
           }
          }
         ]
        },
        {
         "layer": [
          {
           "data": {
            "name": "data-a30037ba1f76948bfbf69ff03e11b484"
           },
           "encoding": {
            "color": {
             "field": "educ_level",
             "legend": {
              "title": "education",
              "values": [
               "Less Than Hs",
               "High School",
               "Some College",
               "Associate",
               "Bachelors",
               "Advanced Degree"
              ]
             },
             "type": "nominal"
            },
            "x": {
             "field": "year",
             "type": "ordinal"
            },
            "y": {
             "axis": {
              "format": "%"
             },
             "field": "gap",
             "scale": {
              "domain": [
               -0.1,
               0.02
              ]
             },
             "type": "quantitative"
            }
           },
           "height": 400,
           "mark": "line",
           "title": "Age Adjusted Employment-to-Population Ratio by Educational Attainment (US)",
           "width": 850
          },
          {
           "data": {
            "name": "data-666ac5f635ff941ddd4679687407a2a3"
           },
           "encoding": {
            "size": {
             "value": 0.1
            },
            "y": {
             "axis": {
              "title": ""
             },
             "field": "zero",
             "type": "quantitative"
            }
           },
           "mark": {
            "color": "black",
            "type": "rule"
           }
          }
         ]
        }
       ],
       "width": 1080
      },
      "image/png": "[encoded data removed]",
      "text/plain": [
       "<VegaLite 2 object>\n",
       "\n",
       "If you see this message, it means the renderer has not been properly enabled\n",
       "for the frontend that you are using. For more information, see\n",
       "https://altair-viz.github.io/user_guide/troubleshooting.html\n"
      ]
     },
     "execution_count": 14,
     "metadata": {},
     "output_type": "execute_result"
    }
   ],
   "source": [
    "final_CA & final_USA"
   ]
  }
 ],
 "metadata": {
  "kernelspec": {
   "display_name": "Python 3",
   "language": "python",
   "name": "python3"
  },
  "language_info": {
   "codemirror_mode": {
    "name": "ipython",
    "version": 3
   },
   "file_extension": ".py",
   "mimetype": "text/x-python",
   "name": "python",
   "nbconvert_exporter": "python",
   "pygments_lexer": "ipython3",
   "version": "3.6.6"
  }
 },
 "nbformat": 4,
 "nbformat_minor": 2
}
